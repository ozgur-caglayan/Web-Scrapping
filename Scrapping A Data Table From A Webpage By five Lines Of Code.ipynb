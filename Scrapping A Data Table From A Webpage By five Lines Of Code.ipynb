{
 "cells": [
  {
   "cell_type": "markdown",
   "metadata": {},
   "source": [
    "# Scrapping A \"Table\" From A Webpage By Five Lines of Code"
   ]
  },
  {
   "cell_type": "code",
   "execution_count": 1,
   "metadata": {},
   "outputs": [],
   "source": [
    "import pandas as pd"
   ]
  },
  {
   "cell_type": "code",
   "execution_count": 2,
   "metadata": {},
   "outputs": [],
   "source": [
    "url =  'http://www.fasttrack.co.uk/league-tables/tech-track-100/league-table/'\n",
    "dfs = pd.read_html(url)"
   ]
  },
  {
   "cell_type": "code",
   "execution_count": 3,
   "metadata": {},
   "outputs": [
    {
     "name": "stdout",
     "output_type": "stream",
     "text": [
      "<class 'list'>\n"
     ]
    }
   ],
   "source": [
    "# print(type(dfs))"
   ]
  },
  {
   "cell_type": "code",
   "execution_count": 4,
   "metadata": {},
   "outputs": [
    {
     "name": "stdout",
     "output_type": "stream",
     "text": [
      "1\n"
     ]
    }
   ],
   "source": [
    "# print(len(dfs))"
   ]
  },
  {
   "cell_type": "code",
   "execution_count": 5,
   "metadata": {},
   "outputs": [
    {
     "data": {
      "text/html": [
       "<div>\n",
       "<style scoped>\n",
       "    .dataframe tbody tr th:only-of-type {\n",
       "        vertical-align: middle;\n",
       "    }\n",
       "\n",
       "    .dataframe tbody tr th {\n",
       "        vertical-align: top;\n",
       "    }\n",
       "\n",
       "    .dataframe thead th {\n",
       "        text-align: right;\n",
       "    }\n",
       "</style>\n",
       "<table border=\"1\" class=\"dataframe\">\n",
       "  <thead>\n",
       "    <tr style=\"text-align: right;\">\n",
       "      <th></th>\n",
       "      <th>0</th>\n",
       "      <th>1</th>\n",
       "      <th>2</th>\n",
       "      <th>3</th>\n",
       "      <th>4</th>\n",
       "      <th>5</th>\n",
       "      <th>6</th>\n",
       "      <th>7</th>\n",
       "    </tr>\n",
       "  </thead>\n",
       "  <tbody>\n",
       "    <tr>\n",
       "      <th>0</th>\n",
       "      <td>Rank</td>\n",
       "      <td>Company</td>\n",
       "      <td>Location</td>\n",
       "      <td>Year end</td>\n",
       "      <td>Annual sales rise over 3 years</td>\n",
       "      <td>Latest sales £000s</td>\n",
       "      <td>Staff</td>\n",
       "      <td>Comment</td>\n",
       "    </tr>\n",
       "    <tr>\n",
       "      <th>1</th>\n",
       "      <td>1</td>\n",
       "      <td>Plan.comCommunications provider</td>\n",
       "      <td>Isle of Man</td>\n",
       "      <td>Sep-17</td>\n",
       "      <td>364.38%</td>\n",
       "      <td>*35,418</td>\n",
       "      <td>90</td>\n",
       "      <td>About 650 partners use its telecoms platform t...</td>\n",
       "    </tr>\n",
       "    <tr>\n",
       "      <th>2</th>\n",
       "      <td>2</td>\n",
       "      <td>PsiOxusBiotechnology developer</td>\n",
       "      <td>Oxfordshire</td>\n",
       "      <td>Dec-17</td>\n",
       "      <td>311.67%</td>\n",
       "      <td>53136</td>\n",
       "      <td>54</td>\n",
       "      <td>Received a $15m milestone payment from its dev...</td>\n",
       "    </tr>\n",
       "    <tr>\n",
       "      <th>3</th>\n",
       "      <td>3</td>\n",
       "      <td>CensorNetCloud security software developer</td>\n",
       "      <td>Basingstoke</td>\n",
       "      <td>Dec-17</td>\n",
       "      <td>210.17%</td>\n",
       "      <td>*7,535</td>\n",
       "      <td>77</td>\n",
       "      <td>Has more than 4,000 customers, including McDon...</td>\n",
       "    </tr>\n",
       "    <tr>\n",
       "      <th>4</th>\n",
       "      <td>4</td>\n",
       "      <td>thoughtonomyAutomation software developer</td>\n",
       "      <td>East London</td>\n",
       "      <td>May-18</td>\n",
       "      <td>205.20%</td>\n",
       "      <td>*16,916</td>\n",
       "      <td>100</td>\n",
       "      <td>It sells to 28 countries and 50% of revenue is...</td>\n",
       "    </tr>\n",
       "  </tbody>\n",
       "</table>\n",
       "</div>"
      ],
      "text/plain": [
       "      0                                           1            2         3  \\\n",
       "0  Rank                                     Company     Location  Year end   \n",
       "1     1             Plan.comCommunications provider  Isle of Man    Sep-17   \n",
       "2     2              PsiOxusBiotechnology developer  Oxfordshire    Dec-17   \n",
       "3     3  CensorNetCloud security software developer  Basingstoke    Dec-17   \n",
       "4     4   thoughtonomyAutomation software developer  East London    May-18   \n",
       "\n",
       "                                4                   5      6  \\\n",
       "0  Annual sales rise over 3 years  Latest sales £000s  Staff   \n",
       "1                         364.38%             *35,418     90   \n",
       "2                         311.67%               53136     54   \n",
       "3                         210.17%              *7,535     77   \n",
       "4                         205.20%             *16,916    100   \n",
       "\n",
       "                                                   7  \n",
       "0                                            Comment  \n",
       "1  About 650 partners use its telecoms platform t...  \n",
       "2  Received a $15m milestone payment from its dev...  \n",
       "3  Has more than 4,000 customers, including McDon...  \n",
       "4  It sells to 28 countries and 50% of revenue is...  "
      ]
     },
     "execution_count": 5,
     "metadata": {},
     "output_type": "execute_result"
    }
   ],
   "source": [
    "df= dfs[0]\n",
    "df.head()"
   ]
  },
  {
   "cell_type": "code",
   "execution_count": 6,
   "metadata": {},
   "outputs": [
    {
     "data": {
      "text/html": [
       "<div>\n",
       "<style scoped>\n",
       "    .dataframe tbody tr th:only-of-type {\n",
       "        vertical-align: middle;\n",
       "    }\n",
       "\n",
       "    .dataframe tbody tr th {\n",
       "        vertical-align: top;\n",
       "    }\n",
       "\n",
       "    .dataframe thead th {\n",
       "        text-align: right;\n",
       "    }\n",
       "</style>\n",
       "<table border=\"1\" class=\"dataframe\">\n",
       "  <thead>\n",
       "    <tr style=\"text-align: right;\">\n",
       "      <th></th>\n",
       "      <th>Rank</th>\n",
       "      <th>Company</th>\n",
       "      <th>Location</th>\n",
       "      <th>Year end</th>\n",
       "      <th>Annual sales rise over 3 years</th>\n",
       "      <th>Latest sales £000s</th>\n",
       "      <th>Staff</th>\n",
       "      <th>Comment</th>\n",
       "    </tr>\n",
       "  </thead>\n",
       "  <tbody>\n",
       "    <tr>\n",
       "      <th>1</th>\n",
       "      <td>1</td>\n",
       "      <td>Plan.comCommunications provider</td>\n",
       "      <td>Isle of Man</td>\n",
       "      <td>Sep-17</td>\n",
       "      <td>364.38%</td>\n",
       "      <td>*35,418</td>\n",
       "      <td>90</td>\n",
       "      <td>About 650 partners use its telecoms platform t...</td>\n",
       "    </tr>\n",
       "    <tr>\n",
       "      <th>2</th>\n",
       "      <td>2</td>\n",
       "      <td>PsiOxusBiotechnology developer</td>\n",
       "      <td>Oxfordshire</td>\n",
       "      <td>Dec-17</td>\n",
       "      <td>311.67%</td>\n",
       "      <td>53136</td>\n",
       "      <td>54</td>\n",
       "      <td>Received a $15m milestone payment from its dev...</td>\n",
       "    </tr>\n",
       "    <tr>\n",
       "      <th>3</th>\n",
       "      <td>3</td>\n",
       "      <td>CensorNetCloud security software developer</td>\n",
       "      <td>Basingstoke</td>\n",
       "      <td>Dec-17</td>\n",
       "      <td>210.17%</td>\n",
       "      <td>*7,535</td>\n",
       "      <td>77</td>\n",
       "      <td>Has more than 4,000 customers, including McDon...</td>\n",
       "    </tr>\n",
       "    <tr>\n",
       "      <th>4</th>\n",
       "      <td>4</td>\n",
       "      <td>thoughtonomyAutomation software developer</td>\n",
       "      <td>East London</td>\n",
       "      <td>May-18</td>\n",
       "      <td>205.20%</td>\n",
       "      <td>*16,916</td>\n",
       "      <td>100</td>\n",
       "      <td>It sells to 28 countries and 50% of revenue is...</td>\n",
       "    </tr>\n",
       "    <tr>\n",
       "      <th>5</th>\n",
       "      <td>5</td>\n",
       "      <td>PerkboxEmployee engagement services</td>\n",
       "      <td>Central London</td>\n",
       "      <td>Dec-17</td>\n",
       "      <td>204.12%</td>\n",
       "      <td>*34,700</td>\n",
       "      <td>200</td>\n",
       "      <td>Acquired software platform Loyalty Bay for an ...</td>\n",
       "    </tr>\n",
       "  </tbody>\n",
       "</table>\n",
       "</div>"
      ],
      "text/plain": [
       "0 Rank                                     Company        Location Year end  \\\n",
       "1    1             Plan.comCommunications provider     Isle of Man   Sep-17   \n",
       "2    2              PsiOxusBiotechnology developer     Oxfordshire   Dec-17   \n",
       "3    3  CensorNetCloud security software developer     Basingstoke   Dec-17   \n",
       "4    4   thoughtonomyAutomation software developer     East London   May-18   \n",
       "5    5         PerkboxEmployee engagement services  Central London   Dec-17   \n",
       "\n",
       "0 Annual sales rise over 3 years Latest sales £000s Staff  \\\n",
       "1                        364.38%            *35,418    90   \n",
       "2                        311.67%              53136    54   \n",
       "3                        210.17%             *7,535    77   \n",
       "4                        205.20%            *16,916   100   \n",
       "5                        204.12%            *34,700   200   \n",
       "\n",
       "0                                            Comment  \n",
       "1  About 650 partners use its telecoms platform t...  \n",
       "2  Received a $15m milestone payment from its dev...  \n",
       "3  Has more than 4,000 customers, including McDon...  \n",
       "4  It sells to 28 countries and 50% of revenue is...  \n",
       "5  Acquired software platform Loyalty Bay for an ...  "
      ]
     },
     "execution_count": 6,
     "metadata": {},
     "output_type": "execute_result"
    }
   ],
   "source": [
    "#df.columns = df.iloc[0]\n",
    "#df = df.drop(0, axis=0)\n",
    "#df.head()           "
   ]
  },
  {
   "cell_type": "code",
   "execution_count": null,
   "metadata": {},
   "outputs": [],
   "source": []
  }
 ],
 "metadata": {
  "kernelspec": {
   "display_name": "Python 3",
   "language": "python",
   "name": "python3"
  },
  "language_info": {
   "codemirror_mode": {
    "name": "ipython",
    "version": 3
   },
   "file_extension": ".py",
   "mimetype": "text/x-python",
   "name": "python",
   "nbconvert_exporter": "python",
   "pygments_lexer": "ipython3",
   "version": "3.7.0"
  }
 },
 "nbformat": 4,
 "nbformat_minor": 2
}
