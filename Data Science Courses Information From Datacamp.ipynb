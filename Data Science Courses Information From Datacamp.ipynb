{
 "cells": [
  {
   "cell_type": "markdown",
   "metadata": {},
   "source": [
    "# Data Science Courses Information From Datacamp"
   ]
  },
  {
   "cell_type": "code",
   "execution_count": 1,
   "metadata": {},
   "outputs": [],
   "source": [
    "import requests\n",
    "from bs4 import BeautifulSoup\n",
    "import pandas as pd\n",
    "\n",
    "courses_page = 'https://www.datacamp.com/courses/all'\n",
    "course_link_selector = '.courses__explore-list .course-block'\n",
    "\n",
    "course_resp = requests.get(courses_page)\n",
    "soup = BeautifulSoup(course_resp.text, 'lxml')\n",
    "\n",
    "course_urls = [link.contents[1]['href'] for link in soup.select(course_link_selector)] \n",
    "course_urls = ['https://www.datacamp.com' + url for url in course_urls]\n",
    "course_names = [link.h4.text for link in soup.select(course_link_selector)]"
   ]
  },
  {
   "cell_type": "code",
   "execution_count": 2,
   "metadata": {},
   "outputs": [
    {
     "name": "stdout",
     "output_type": "stream",
     "text": [
      "total keywords: 208\n"
     ]
    },
    {
     "data": {
      "text/html": [
       "<div>\n",
       "<style scoped>\n",
       "    .dataframe tbody tr th:only-of-type {\n",
       "        vertical-align: middle;\n",
       "    }\n",
       "\n",
       "    .dataframe tbody tr th {\n",
       "        vertical-align: top;\n",
       "    }\n",
       "\n",
       "    .dataframe thead th {\n",
       "        text-align: right;\n",
       "    }\n",
       "</style>\n",
       "<table border=\"1\" class=\"dataframe\">\n",
       "  <thead>\n",
       "    <tr style=\"text-align: right;\">\n",
       "      <th></th>\n",
       "      <th>name</th>\n",
       "      <th>url</th>\n",
       "      <th>name_clean</th>\n",
       "    </tr>\n",
       "  </thead>\n",
       "  <tbody>\n",
       "    <tr>\n",
       "      <th>0</th>\n",
       "      <td>Introduction to R</td>\n",
       "      <td>https://www.datacamp.com/courses/free-introduc...</td>\n",
       "      <td>Introduction to R</td>\n",
       "    </tr>\n",
       "    <tr>\n",
       "      <th>1</th>\n",
       "      <td>Data Analysis in R, the data.table Way</td>\n",
       "      <td>https://www.datacamp.com/courses/data-table-da...</td>\n",
       "      <td>Data Analysis in R, the data.table Way</td>\n",
       "    </tr>\n",
       "    <tr>\n",
       "      <th>2</th>\n",
       "      <td>Data Manipulation in R with dplyr</td>\n",
       "      <td>https://www.datacamp.com/courses/dplyr-data-ma...</td>\n",
       "      <td>Data Manipulation in R with dplyr</td>\n",
       "    </tr>\n",
       "    <tr>\n",
       "      <th>3</th>\n",
       "      <td>Data Visualization in R with ggvis</td>\n",
       "      <td>https://www.datacamp.com/courses/ggvis-data-vi...</td>\n",
       "      <td>Data Visualization in R with ggvis</td>\n",
       "    </tr>\n",
       "    <tr>\n",
       "      <th>4</th>\n",
       "      <td>Reporting with R Markdown</td>\n",
       "      <td>https://www.datacamp.com/courses/reporting-wit...</td>\n",
       "      <td>Reporting with R Markdown</td>\n",
       "    </tr>\n",
       "  </tbody>\n",
       "</table>\n",
       "</div>"
      ],
      "text/plain": [
       "                                     name  \\\n",
       "0                       Introduction to R   \n",
       "1  Data Analysis in R, the data.table Way   \n",
       "2       Data Manipulation in R with dplyr   \n",
       "3      Data Visualization in R with ggvis   \n",
       "4               Reporting with R Markdown   \n",
       "\n",
       "                                                 url  \\\n",
       "0  https://www.datacamp.com/courses/free-introduc...   \n",
       "1  https://www.datacamp.com/courses/data-table-da...   \n",
       "2  https://www.datacamp.com/courses/dplyr-data-ma...   \n",
       "3  https://www.datacamp.com/courses/ggvis-data-vi...   \n",
       "4  https://www.datacamp.com/courses/reporting-wit...   \n",
       "\n",
       "                               name_clean  \n",
       "0                       Introduction to R  \n",
       "1  Data Analysis in R, the data.table Way  \n",
       "2       Data Manipulation in R with dplyr  \n",
       "3      Data Visualization in R with ggvis  \n",
       "4               Reporting with R Markdown  "
      ]
     },
     "execution_count": 2,
     "metadata": {},
     "output_type": "execute_result"
    }
   ],
   "source": [
    "course_df = pd.DataFrame({\n",
    "    'name': course_names,\n",
    "    'url': course_urls\n",
    "})\n",
    "course_df['name_clean'] = course_df.name.str.replace('\\(.*\\)', '').str.strip()  # remove (part x)\n",
    "print('total keywords:', course_df.shape[0])\n",
    "course_df.head()"
   ]
  }
 ],
 "metadata": {
  "kernelspec": {
   "display_name": "Python 3",
   "language": "python",
   "name": "python3"
  },
  "language_info": {
   "codemirror_mode": {
    "name": "ipython",
    "version": 3
   },
   "file_extension": ".py",
   "mimetype": "text/x-python",
   "name": "python",
   "nbconvert_exporter": "python",
   "pygments_lexer": "ipython3",
   "version": "3.7.0"
  }
 },
 "nbformat": 4,
 "nbformat_minor": 2
}
