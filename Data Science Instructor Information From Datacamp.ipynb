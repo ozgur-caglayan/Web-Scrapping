{
 "cells": [
  {
   "cell_type": "markdown",
   "metadata": {},
   "source": [
    "# Data Science Instructor Information From Datacamp"
   ]
  },
  {
   "cell_type": "markdown",
   "metadata": {},
   "source": [
    "* You begin by getting the names of the instructors and the URLs for each:"
   ]
  },
  {
   "cell_type": "code",
   "execution_count": 1,
   "metadata": {},
   "outputs": [],
   "source": [
    "import requests\n",
    "from bs4 import BeautifulSoup\n",
    "\n",
    "\n",
    "instructors_page = 'https://www.datacamp.com/instructors?all=true'\n",
    "instructor_link_selector = '.instructor-block__description .instructor-block__link' # CSS class of the link\n",
    "instructor_name_selector = '.instructor-block__name'  # CSS class of the name"
   ]
  },
  {
   "cell_type": "markdown",
   "metadata": {},
   "source": [
    "*  . css dilinde class anlamına gelmektedir. Örneğin '.intro' ifadesi Selects all elements with class=\"intro\" anlamına gelmektedir.\n",
    "*  instructor_link_selector değişkenine .instructor-block__description sınıfındaki .instructor-block__link sınıfını tanımladık.  istedik.\n",
    "*  instructor_name_selector değişkenine .instructor-block__name sınıfını tanımladık."
   ]
  },
  {
   "cell_type": "code",
   "execution_count": 2,
   "metadata": {},
   "outputs": [],
   "source": [
    "instructor_resp = requests.get(instructors_page)\n",
    "soup = BeautifulSoup(instructor_resp.text, 'lxml')\n",
    "\n",
    "instructor_urls = [url['href'] for url in soup.select(instructor_link_selector)]\n",
    "instructor_names = [name.text.strip() for name in soup.select(instructor_name_selector)]\n",
    "instructor_urls = ['https://www.datacamp.com' + url for url in instructor_urls]"
   ]
  },
  {
   "cell_type": "code",
   "execution_count": 3,
   "metadata": {},
   "outputs": [
    {
     "data": {
      "text/plain": [
       "<h2 class=\"instructor-block__name dc-u-mb-12\">\n",
       "    Filip Schouwenaars\n",
       "  </h2>"
      ]
     },
     "execution_count": 3,
     "metadata": {},
     "output_type": "execute_result"
    }
   ],
   "source": [
    "soup.select(instructor_name_selector)[0]"
   ]
  },
  {
   "cell_type": "code",
   "execution_count": 4,
   "metadata": {
    "scrolled": true
   },
   "outputs": [
    {
     "data": {
      "text/plain": [
       "<a class=\"instructor-block__link\" href=\"/instructors/filipsch\">See Full Bio</a>"
      ]
     },
     "execution_count": 4,
     "metadata": {},
     "output_type": "execute_result"
    }
   ],
   "source": [
    "soup.select(instructor_link_selector)[0]"
   ]
  },
  {
   "cell_type": "markdown",
   "metadata": {},
   "source": [
    "* You put them in a DataFrame for later use."
   ]
  },
  {
   "cell_type": "code",
   "execution_count": 5,
   "metadata": {
    "scrolled": true
   },
   "outputs": [
    {
     "name": "stdout",
     "output_type": "stream",
     "text": [
      "(167, 2)\n"
     ]
    },
    {
     "data": {
      "text/html": [
       "<div>\n",
       "<style scoped>\n",
       "    .dataframe tbody tr th:only-of-type {\n",
       "        vertical-align: middle;\n",
       "    }\n",
       "\n",
       "    .dataframe tbody tr th {\n",
       "        vertical-align: top;\n",
       "    }\n",
       "\n",
       "    .dataframe thead th {\n",
       "        text-align: right;\n",
       "    }\n",
       "</style>\n",
       "<table border=\"1\" class=\"dataframe\">\n",
       "  <thead>\n",
       "    <tr style=\"text-align: right;\">\n",
       "      <th></th>\n",
       "      <th>name</th>\n",
       "      <th>url</th>\n",
       "    </tr>\n",
       "  </thead>\n",
       "  <tbody>\n",
       "    <tr>\n",
       "      <th>0</th>\n",
       "      <td>Filip Schouwenaars</td>\n",
       "      <td>https://www.datacamp.com/instructors/filipsch</td>\n",
       "    </tr>\n",
       "    <tr>\n",
       "      <th>1</th>\n",
       "      <td>Jonathan Cornelissen</td>\n",
       "      <td>https://www.datacamp.com/instructors/jonathana...</td>\n",
       "    </tr>\n",
       "    <tr>\n",
       "      <th>2</th>\n",
       "      <td>Hugo Bowne-Anderson</td>\n",
       "      <td>https://www.datacamp.com/instructors/hugobowne</td>\n",
       "    </tr>\n",
       "    <tr>\n",
       "      <th>3</th>\n",
       "      <td>Nick Carchedi</td>\n",
       "      <td>https://www.datacamp.com/instructors/nickyc</td>\n",
       "    </tr>\n",
       "    <tr>\n",
       "      <th>4</th>\n",
       "      <td>Team Anaconda</td>\n",
       "      <td>https://www.datacamp.com/instructors/team-anac...</td>\n",
       "    </tr>\n",
       "  </tbody>\n",
       "</table>\n",
       "</div>"
      ],
      "text/plain": [
       "                   name                                                url\n",
       "0    Filip Schouwenaars      https://www.datacamp.com/instructors/filipsch\n",
       "1  Jonathan Cornelissen  https://www.datacamp.com/instructors/jonathana...\n",
       "2   Hugo Bowne-Anderson     https://www.datacamp.com/instructors/hugobowne\n",
       "3         Nick Carchedi        https://www.datacamp.com/instructors/nickyc\n",
       "4         Team Anaconda  https://www.datacamp.com/instructors/team-anac..."
      ]
     },
     "execution_count": 5,
     "metadata": {},
     "output_type": "execute_result"
    }
   ],
   "source": [
    "import pandas as pd\n",
    "instructor_df = pd.DataFrame({\n",
    "    'name': instructor_names,\n",
    "    'url': instructor_urls\n",
    "})\n",
    "print(instructor_df.shape)\n",
    "instructor_df.head()"
   ]
  },
  {
   "cell_type": "code",
   "execution_count": 6,
   "metadata": {},
   "outputs": [
    {
     "data": {
      "text/html": [
       "<div>\n",
       "<style scoped>\n",
       "    .dataframe tbody tr th:only-of-type {\n",
       "        vertical-align: middle;\n",
       "    }\n",
       "\n",
       "    .dataframe tbody tr th {\n",
       "        vertical-align: top;\n",
       "    }\n",
       "\n",
       "    .dataframe thead th {\n",
       "        text-align: right;\n",
       "    }\n",
       "</style>\n",
       "<table border=\"1\" class=\"dataframe\">\n",
       "  <thead>\n",
       "    <tr style=\"text-align: right;\">\n",
       "      <th></th>\n",
       "      <th>name</th>\n",
       "      <th>url</th>\n",
       "    </tr>\n",
       "  </thead>\n",
       "  <tbody>\n",
       "    <tr>\n",
       "      <th>162</th>\n",
       "      <td>Omayma Said</td>\n",
       "      <td>https://www.datacamp.com/instructors/omayma-said</td>\n",
       "    </tr>\n",
       "    <tr>\n",
       "      <th>163</th>\n",
       "      <td>Ted Hart</td>\n",
       "      <td>https://www.datacamp.com/instructors/edmundmhart</td>\n",
       "    </tr>\n",
       "    <tr>\n",
       "      <th>164</th>\n",
       "      <td>Claire Bowen</td>\n",
       "      <td>https://www.datacamp.com/instructors/clairemck...</td>\n",
       "    </tr>\n",
       "    <tr>\n",
       "      <th>165</th>\n",
       "      <td>Peter Humburg</td>\n",
       "      <td>https://www.datacamp.com/instructors/peterhumburg</td>\n",
       "    </tr>\n",
       "    <tr>\n",
       "      <th>166</th>\n",
       "      <td>Mark Peterson</td>\n",
       "      <td>https://www.datacamp.com/instructors/markepete...</td>\n",
       "    </tr>\n",
       "  </tbody>\n",
       "</table>\n",
       "</div>"
      ],
      "text/plain": [
       "              name                                                url\n",
       "162    Omayma Said   https://www.datacamp.com/instructors/omayma-said\n",
       "163       Ted Hart   https://www.datacamp.com/instructors/edmundmhart\n",
       "164   Claire Bowen  https://www.datacamp.com/instructors/clairemck...\n",
       "165  Peter Humburg  https://www.datacamp.com/instructors/peterhumburg\n",
       "166  Mark Peterson  https://www.datacamp.com/instructors/markepete..."
      ]
     },
     "execution_count": 6,
     "metadata": {},
     "output_type": "execute_result"
    }
   ],
   "source": [
    "instructor_df.tail()"
   ]
  }
 ],
 "metadata": {
  "kernelspec": {
   "display_name": "Python 3",
   "language": "python",
   "name": "python3"
  },
  "language_info": {
   "codemirror_mode": {
    "name": "ipython",
    "version": 3
   },
   "file_extension": ".py",
   "mimetype": "text/x-python",
   "name": "python",
   "nbconvert_exporter": "python",
   "pygments_lexer": "ipython3",
   "version": "3.7.0"
  }
 },
 "nbformat": 4,
 "nbformat_minor": 2
}
